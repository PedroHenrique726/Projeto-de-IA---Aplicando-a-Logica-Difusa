{
  "nbformat": 4,
  "nbformat_minor": 0,
  "metadata": {
    "colab": {
      "provenance": [],
      "authorship_tag": "ABX9TyMb82yPXfkfp91t6WDyRa8D",
      "include_colab_link": true
    },
    "kernelspec": {
      "name": "python3",
      "display_name": "Python 3"
    },
    "language_info": {
      "name": "python"
    }
  },
  "cells": [
    {
      "cell_type": "markdown",
      "metadata": {
        "id": "view-in-github",
        "colab_type": "text"
      },
      "source": [
        "<a href=\"https://colab.research.google.com/github/PedroHenrique726/Projeto-de-IA---Aplicando-a-Logica-Difusa/blob/main/Projeto_IA.ipynb\" target=\"_parent\"><img src=\"https://colab.research.google.com/assets/colab-badge.svg\" alt=\"Open In Colab\"/></a>"
      ]
    },
    {
      "cell_type": "markdown",
      "source": [
        "# **Projeto A3 - Inteligência Artificial**\n",
        "\n",
        "**Proposta:**\n",
        "Utilizar a Lógica Fuzzy para auxiliar a identificação da qualidade da água."
      ],
      "metadata": {
        "id": "ThbW8XzPIofn"
      }
    },
    {
      "cell_type": "markdown",
      "source": [
        "# **Instalação e importação de bibliotecas:**\n",
        "matplotlib.pyplot: Biblioteca utilizada para visualização de dados em formato de gráficos 2D. \\\n",
        "numpy: Biblioteca para a linguagem Python com funções para se trabalhar com computação numérica. \\\n",
        "skfuzzy: Parte da bibliteca \"Scikit-learn\" que é utilizada para Machine Learning."
      ],
      "metadata": {
        "id": "rbbedGHdIoTI"
      }
    },
    {
      "cell_type": "code",
      "execution_count": null,
      "metadata": {
        "colab": {
          "base_uri": "https://localhost:8080/"
        },
        "id": "K88wDs7uYajQ",
        "outputId": "91a45ebd-7faa-44a3-f9f0-4d6b6dd60b61"
      },
      "outputs": [
        {
          "output_type": "stream",
          "name": "stdout",
          "text": [
            "Looking in indexes: https://pypi.org/simple, https://us-python.pkg.dev/colab-wheels/public/simple/\n",
            "Requirement already satisfied: scikit-fuzzy in /usr/local/lib/python3.7/dist-packages (0.4.2)\n",
            "Requirement already satisfied: numpy>=1.6.0 in /usr/local/lib/python3.7/dist-packages (from scikit-fuzzy) (1.21.6)\n",
            "Requirement already satisfied: scipy>=0.9.0 in /usr/local/lib/python3.7/dist-packages (from scikit-fuzzy) (1.7.3)\n",
            "Requirement already satisfied: networkx>=1.9.0 in /usr/local/lib/python3.7/dist-packages (from scikit-fuzzy) (2.6.3)\n",
            "Looking in indexes: https://pypi.org/simple, https://us-python.pkg.dev/colab-wheels/public/simple/\n",
            "Requirement already satisfied: matplotlib in /usr/local/lib/python3.7/dist-packages (3.2.2)\n",
            "Requirement already satisfied: python-dateutil>=2.1 in /usr/local/lib/python3.7/dist-packages (from matplotlib) (2.8.2)\n",
            "Requirement already satisfied: numpy>=1.11 in /usr/local/lib/python3.7/dist-packages (from matplotlib) (1.21.6)\n",
            "Requirement already satisfied: cycler>=0.10 in /usr/local/lib/python3.7/dist-packages (from matplotlib) (0.11.0)\n",
            "Requirement already satisfied: pyparsing!=2.0.4,!=2.1.2,!=2.1.6,>=2.0.1 in /usr/local/lib/python3.7/dist-packages (from matplotlib) (3.0.9)\n",
            "Requirement already satisfied: kiwisolver>=1.0.1 in /usr/local/lib/python3.7/dist-packages (from matplotlib) (1.4.4)\n",
            "Requirement already satisfied: typing-extensions in /usr/local/lib/python3.7/dist-packages (from kiwisolver>=1.0.1->matplotlib) (4.1.1)\n",
            "Requirement already satisfied: six>=1.5 in /usr/local/lib/python3.7/dist-packages (from python-dateutil>=2.1->matplotlib) (1.15.0)\n"
          ]
        }
      ],
      "source": [
        "!pip install -U scikit-fuzzy\n",
        "!pip install matplotlib\n",
        "import matplotlib.pyplot as plt\n",
        "import numpy as np\n",
        "import skfuzzy as fuzz\n",
        "from skfuzzy import control as ctrl"
      ]
    },
    {
      "cell_type": "markdown",
      "source": [
        "# **Váriaveis**\n",
        "**Foi escolhido 4 variáveis de entrada para esta proposta:** \n",
        "\n",
        "PH: “PH” \\\n",
        "Coliformes Fecais: “col” \\\n",
        "% de saturação do Oxigênio dissolvido: “od” \\\n",
        "Variação de temperatura: \"temp\" \\\n",
        " \\\n",
        "\n",
        "**E a variável de saída:**\n",
        "\n",
        "Potabilidade: “pota”\n",
        "\n",
        "O *RANGE* de cada variável foi definido de acordo com suas características. "
      ],
      "metadata": {
        "id": "YaH96PzXIwN4"
      }
    },
    {
      "cell_type": "code",
      "source": [
        "#Variavel de entrada\n",
        "ph = ctrl.Antecedent(np.arange(1, 14, 0.5), \"PH\")\n",
        "col  = ctrl.Antecedent(np.arange(0, 7, 0.1), \"Coliformes\")\n",
        "od = ctrl.Antecedent(np.arange(0, 140, 1), \"% de Saturação de Oxigênio Dissolvido\")\n",
        "temp = ctrl.Antecedent(np.arange(-5,16, 0.5), \"Variação da temperatura\")\n",
        "\n",
        "#Variavel de saida\n",
        "pota = ctrl.Consequent(np.arange(0, 101, 0.5), \"Potabilidade\")"
      ],
      "metadata": {
        "id": "cUHp4DWcYquf"
      },
      "execution_count": null,
      "outputs": []
    },
    {
      "cell_type": "markdown",
      "source": [
        "# **Fuzzificação**\n",
        "O processo de fuzzificação consiste em converter valores numéricos em conjuntos nebulosos. Esta conversão é feita usando-se as funções de pertinência. Para cada uma das variáveis escolhidas foi atribuída um universo de discurso  de acordo com suas características e impondo regiões difusas. "
      ],
      "metadata": {
        "id": "hnRwxcuJI7ti"
      }
    },
    {
      "cell_type": "code",
      "source": [
        "#fuzzificação\n",
        "\n",
        "#Variaveis de entrada\n",
        "ph['altamente ácido'] = fuzz.trapmf(ph.universe, [0, 0, 2, 4])\n",
        "ph['ácido'] = fuzz.trimf(ph.universe, [3, 5, 7])\n",
        "ph['ideal'] = fuzz.trapmf(ph.universe, [6,7, 9, 10])\n",
        "ph['acima do ideal'] = fuzz.trapmf(ph.universe, [8.5, 11, 14, 14])  \n",
        "\n",
        "col['otima'] = fuzz.trapmf(col.universe, [0, 0, 1, 2])\n",
        "col['boa'] = fuzz.trimf(col.universe, [1.5, 2, 3])\n",
        "col['regular'] = fuzz.trimf(col.universe, [2, 3, 4])\n",
        "col['ruim'] = fuzz.trimf(col.universe, [3.5, 4.5, 5.5])\n",
        "col['pessima'] = fuzz.trapmf(col.universe, [4.5, 6, 7, 7])\n",
        "\n",
        "od['muito baixa'] = fuzz.trapmf(od.universe, [0, 0, 40, 50])\n",
        "od['baixa'] = fuzz.trapmf(od.universe, [45, 60, 80, 95])\n",
        "od['boa'] = fuzz.trimf(od.universe, [90, 100, 110])\n",
        "od['supersaturado'] = fuzz.trapmf(od.universe, [105, 115, 150, 150])  \n",
        "\n",
        "temp['muito elevada'] = fuzz.trapmf(temp.universe, [7, 11, 17, 17])\n",
        "temp['elevada'] = fuzz.trimf(temp.universe, [1, 5, 9])\n",
        "temp['baixa'] = fuzz.trapmf(temp.universe, [-6,-6, -2, -0.5])\n",
        "temp['minima'] = fuzz.trapmf(temp.universe, [-2.5,-1, 1, 2.5])\n",
        "\n",
        "#Variaveis de saida\n",
        "pota['pessima'] = fuzz.trapmf(pota.universe, [0, 0, 20, 25])\n",
        "pota['ruim'] = fuzz.trimf(pota.universe, [15, 28.5, 40])\n",
        "pota['regular'] = fuzz.trimf(pota.universe, [30, 42.6, 55])\n",
        "pota['boa'] = fuzz.trimf(pota.universe, [50, 70, 90])\n",
        "pota['otima'] = fuzz.trapmf(pota.universe, [80, 90, 102, 102])\n"
      ],
      "metadata": {
        "id": "_ygsSuX0iHrP"
      },
      "execution_count": null,
      "outputs": []
    },
    {
      "cell_type": "markdown",
      "source": [
        "# **Regras**\n",
        "As regras do sistema de inferência fuzzy representam as relações entre suas entradas e suas saídas, formando a base de conhecimento. \n",
        "Regras são definidas seguindo o padrão: SE condição ENTÃO conclusão, com variáveis linguísticas (Fuzzy)\n",
        "Cada regra descrita abaixo foi estabelecida de acordo com os padrões de qualidade mínimo necessário para consumo de água.\n"
      ],
      "metadata": {
        "id": "LwmD7JWMJAGR"
      }
    },
    {
      "cell_type": "code",
      "source": [
        "#definindo as regras../../\n",
        "regra1 = ctrl.Rule(ph['ideal'] & col['otima'] & od['boa'] & temp['minima'], pota['otima'])\n",
        "regra2 = ctrl.Rule(ph['ideal'] & col['otima'] & od['boa'] & temp['baixa'], pota['otima'])\n",
        "regra3 = ctrl.Rule(ph['ideal'] & col['otima'] & od['boa'] & temp['elevada'], pota['regular'])\n",
        "regra4 = ctrl.Rule(ph['ideal'] & col['otima'] & od['supersaturado'] & temp['minima'], pota['otima'])\n",
        "regra5 = ctrl.Rule(ph['ideal'] & col['otima'] & od['supersaturado'] & temp['baixa'], pota['regular'])\n",
        "regra6 = ctrl.Rule(ph['ideal'] & col['otima'] & od['supersaturado'] & temp['elevada'], pota['regular'])\n",
        "regra7 = ctrl.Rule(ph['ideal'] & col['otima'] & od['baixa'] & temp['minima'], pota['boa'])\n",
        "regra8 = ctrl.Rule(ph['ideal'] & col['otima'] & od['baixa'] & temp['baixa'], pota['boa'])\n",
        "regra9 = ctrl.Rule(ph['ideal'] & col['otima'] & od['baixa'] & temp['elevada'], pota['ruim'])\n",
        "regra10 = ctrl.Rule(ph['ideal'] & col['boa'] & od['boa'] & temp['minima'], pota['boa'])\n",
        "regra11 = ctrl.Rule(ph['ideal'] & col['boa'] & od['boa'] & temp['baixa'], pota['regular'])\n",
        "regra12 = ctrl.Rule(ph['ideal'] & col['boa'] & od['boa'] & temp['elevada'], pota['regular'])\n",
        "regra13 = ctrl.Rule(ph['ideal'] & col['boa'] & od['supersaturado'] & temp['minima'], pota['regular'])\n",
        "regra14 = ctrl.Rule(ph['ideal'] & col['boa'] & od['supersaturado'] & temp['baixa'], pota['regular'])\n",
        "regra15 = ctrl.Rule(ph['ideal'] & col['boa'] & od['supersaturado'] & temp['elevada'], pota['ruim'])\n",
        "regra16 = ctrl.Rule(ph['ideal'] & col['boa'] & od['baixa'] & temp['minima'], pota['boa'])\n",
        "regra17 = ctrl.Rule(ph['ideal'] & col['boa'] & od['baixa'] & temp['baixa'], pota['regular'])\n",
        "regra18 = ctrl.Rule(ph['ideal'] & col['boa'] & od['baixa'] & temp['elevada'], pota['ruim'])\n",
        "regra19 = ctrl.Rule(ph['ideal'] & col['regular'] & od['boa'] & temp['minima'], pota['regular'])\n",
        "regra20 = ctrl.Rule(ph['ideal'] & col['regular'] & od['boa'] & temp['baixa'], pota['regular'])\n",
        "regra21 = ctrl.Rule(ph['ideal'] & col['regular'] & od['boa'] & temp['elevada'], pota['ruim'])\n",
        "regra22 = ctrl.Rule(ph['ideal'] & col['regular'] & od['supersaturado'] & temp['minima'], pota['regular'])\n",
        "regra23 = ctrl.Rule(ph['ideal'] & col['regular'] & od['supersaturado'] & temp['baixa'], pota['ruim'])\n",
        "regra24 = ctrl.Rule(ph['ideal'] & col['regular'] & od['supersaturado'] & temp['elevada'], pota['ruim'])\n",
        "regra25 = ctrl.Rule(ph['ideal'] & col['regular'] & od['baixa'] & temp['minima'], pota['regular'])\n",
        "regra26 = ctrl.Rule(ph['ideal'] & col['regular'] & od['baixa'] & temp['baixa'], pota['regular'])\n",
        "regra27 = ctrl.Rule(ph['ideal'] & col['regular'] & od['baixa'] & temp['elevada'], pota['ruim'])\n",
        "regra28 = ctrl.Rule(ph['ideal'] & col['ruim'] & od['boa'] & temp['minima'], pota['regular'])\n",
        "regra29 = ctrl.Rule(ph['ideal'] & col['ruim'] & od['boa'] & temp['baixa'], pota['ruim'])\n",
        "regra30 = ctrl.Rule(ph['ideal'] & col['ruim'] & od['boa'] & temp['elevada'], pota['ruim'])\n",
        "regra31 = ctrl.Rule(ph['ideal'] & col['ruim'] & od['supersaturado'] & temp['minima'], pota['ruim'])\n",
        "regra32 = ctrl.Rule(ph['ideal'] & col['ruim'] & od['supersaturado'] & temp['baixa'], pota['ruim'])\n",
        "regra33 = ctrl.Rule(ph['ideal'] & col['ruim'] & od['supersaturado'] & temp['elevada'], pota['ruim'])\n",
        "regra34 = ctrl.Rule(ph['ideal'] & col['ruim'] & od['baixa'] & temp['minima'], pota['ruim'])\n",
        "regra35 = ctrl.Rule(ph['ideal'] & col['ruim'] & od['baixa'] & temp['baixa'], pota['ruim'])\n",
        "regra36 = ctrl.Rule(ph['ideal'] & col['ruim'] & od['baixa'] & temp['elevada'], pota['ruim'])\n",
        "regra37 = ctrl.Rule(ph['acima do ideal'] & col['otima'] & od['boa'] & temp['minima'], pota['boa'])\n",
        "regra38 = ctrl.Rule(ph['acima do ideal'] & col['otima'] & od['boa'] & temp['baixa'], pota['regular'])\n",
        "regra39 = ctrl.Rule(ph['acima do ideal'] & col['otima'] & od['boa'] & temp['elevada'], pota['regular'])\n",
        "regra40 = ctrl.Rule(ph['acima do ideal'] & col['otima'] & od['supersaturado'] & temp['minima'], pota['regular'])\n",
        "regra41 = ctrl.Rule(ph['acima do ideal'] & col['otima'] & od['supersaturado'] & temp['baixa'], pota['regular'])\n",
        "regra42 = ctrl.Rule(ph['acima do ideal'] & col['otima'] & od['supersaturado'] & temp['elevada'], pota['ruim'])\n",
        "regra43 = ctrl.Rule(ph['acima do ideal'] & col['otima'] & od['baixa'] & temp['minima'], pota['boa'])\n",
        "regra44 = ctrl.Rule(ph['acima do ideal'] & col['otima'] & od['baixa'] & temp['baixa'], pota['regular'])\n",
        "regra45 = ctrl.Rule(ph['acima do ideal'] & col['otima'] & od['baixa'] & temp['elevada'], pota['ruim'])\n",
        "regra46 = ctrl.Rule(ph['acima do ideal'] & col['boa'] & od['boa'] & temp['minima'], pota['regular'])\n",
        "regra47 = ctrl.Rule(ph['acima do ideal'] & col['boa'] & od['boa'] & temp['baixa'], pota['regular'])\n",
        "regra48 = ctrl.Rule(ph['acima do ideal'] & col['boa'] & od['boa'] & temp['elevada'], pota['ruim'])\n",
        "regra49 = ctrl.Rule(ph['acima do ideal'] & col['boa'] & od['supersaturado'] & temp['minima'], pota['regular'])\n",
        "regra50 = ctrl.Rule(ph['acima do ideal'] & col['boa'] & od['supersaturado'] & temp['baixa'], pota['ruim'])\n",
        "regra51 = ctrl.Rule(ph['acima do ideal'] & col['boa'] & od['supersaturado'] & temp['elevada'], pota['ruim'])\n",
        "regra52 = ctrl.Rule(ph['acima do ideal'] & col['boa'] & od['baixa'] & temp['minima'], pota['regular'])\n",
        "regra53 = ctrl.Rule(ph['acima do ideal'] & col['boa'] & od['baixa'] & temp['baixa'], pota['ruim'])\n",
        "regra54 = ctrl.Rule(ph['acima do ideal'] & col['boa'] & od['baixa'] & temp['elevada'], pota['ruim'])\n",
        "regra55 = ctrl.Rule(ph['acima do ideal'] & col['regular'] & od['boa'] & temp['minima'], pota['regular'])\n",
        "regra56 = ctrl.Rule(ph['acima do ideal'] & col['regular'] & od['boa'] & temp['baixa'], pota['ruim'])\n",
        "regra57 = ctrl.Rule(ph['acima do ideal'] & col['regular'] & od['boa'] & temp['elevada'], pota['ruim'])\n",
        "regra58 = ctrl.Rule(ph['acima do ideal'] & col['regular'] & od['supersaturado'] & temp['minima'], pota['ruim'])\n",
        "regra59 = ctrl.Rule(ph['acima do ideal'] & col['regular'] & od['supersaturado'] & temp['baixa'], pota['ruim'])\n",
        "regra60 = ctrl.Rule(ph['acima do ideal'] & col['regular'] & od['supersaturado'] & temp['elevada'], pota['ruim'])\n",
        "regra61 = ctrl.Rule(ph['acima do ideal'] & col['regular'] & od['baixa'] & temp['minima'], pota['regular'])\n",
        "regra62 = ctrl.Rule(ph['acima do ideal'] & col['regular'] & od['baixa'] & temp['baixa'], pota['ruim'])\n",
        "regra63 = ctrl.Rule(ph['acima do ideal'] & col['regular'] & od['baixa'] & temp['elevada'], pota['ruim'])\n",
        "regra64 = ctrl.Rule(ph['acima do ideal'] & col['ruim'] & od['boa'] & temp['minima'], pota['ruim'])\n",
        "regra65 = ctrl.Rule(ph['acima do ideal'] & col['ruim'] & od['boa'] & temp['baixa'], pota['ruim'])\n",
        "regra66 = ctrl.Rule(ph['acima do ideal'] & col['ruim'] & od['boa'] & temp['elevada'], pota['ruim'])\n",
        "regra67 = ctrl.Rule(ph['acima do ideal'] & col['ruim'] & od['supersaturado'] & temp['minima'], pota['ruim'])\n",
        "regra68 = ctrl.Rule(ph['acima do ideal'] & col['ruim'] & od['supersaturado'] & temp['baixa'], pota['ruim'])\n",
        "regra69 = ctrl.Rule(ph['acima do ideal'] & col['ruim'] & od['supersaturado'] & temp['elevada'], pota['ruim'])\n",
        "regra70 = ctrl.Rule(ph['acima do ideal'] & col['ruim'] & od['baixa'] & temp['minima'], pota['ruim'])\n",
        "regra71 = ctrl.Rule(ph['acima do ideal'] & col['ruim'] & od['baixa'] & temp['baixa'], pota['ruim'])\n",
        "regra72 = ctrl.Rule(ph['acima do ideal'] & col['ruim'] & od['baixa'] & temp['elevada'], pota['ruim'])\n",
        "regra73 = ctrl.Rule(ph['ácido'] & col['otima'] & od['boa'] & temp['minima'], pota['regular'])\n",
        "regra74 = ctrl.Rule(ph['ácido'] & col['otima'] & od['boa'] & temp['baixa'], pota['regular'])\n",
        "regra75 = ctrl.Rule(ph['ácido'] & col['otima'] & od['boa'] & temp['elevada'], pota['ruim'])\n",
        "regra76 = ctrl.Rule(ph['ácido'] & col['otima'] & od['supersaturado'] & temp['minima'], pota['regular'])\n",
        "regra77 = ctrl.Rule(ph['ácido'] & col['otima'] & od['supersaturado'] & temp['baixa'], pota['ruim'])\n",
        "regra78 = ctrl.Rule(ph['ácido'] & col['otima'] & od['supersaturado'] & temp['elevada'], pota['ruim'])\n",
        "regra79 = ctrl.Rule(ph['ácido'] & col['otima'] & od['baixa'] & temp['minima'], pota['regular'])\n",
        "regra80 = ctrl.Rule(ph['ácido'] & col['otima'] & od['baixa'] & temp['baixa'], pota['ruim'])\n",
        "regra81 = ctrl.Rule(ph['ácido'] & col['otima'] & od['baixa'] & temp['elevada'], pota['ruim'])\n",
        "regra82 = ctrl.Rule(ph['ácido'] & col['boa'] & od['boa'] & temp['minima'], pota['regular'])\n",
        "regra83 = ctrl.Rule(ph['ácido'] & col['boa'] & od['boa'] & temp['baixa'], pota['ruim'])\n",
        "regra84 = ctrl.Rule(ph['ácido'] & col['boa'] & od['boa'] & temp['elevada'], pota['ruim'])\n",
        "regra85 = ctrl.Rule(ph['ácido'] & col['boa'] & od['supersaturado'] & temp['minima'], pota['ruim'])\n",
        "regra86 = ctrl.Rule(ph['ácido'] & col['boa'] & od['supersaturado'] & temp['baixa'], pota['ruim'])\n",
        "regra87 = ctrl.Rule(ph['ácido'] & col['boa'] & od['supersaturado'] & temp['elevada'], pota['ruim'])\n",
        "regra88 = ctrl.Rule(ph['ácido'] & col['boa'] & od['baixa'] & temp['minima'], pota['regular'])\n",
        "regra89 = ctrl.Rule(ph['ácido'] & col['boa'] & od['baixa'] & temp['baixa'], pota['ruim'])\n",
        "regra90 = ctrl.Rule(ph['ácido'] & col['boa'] & od['baixa'] & temp['elevada'], pota['ruim'])\n",
        "regra91 = ctrl.Rule(ph['ácido'] & col['regular'] & od['boa'] & temp['minima'], pota['ruim'])\n",
        "regra92 = ctrl.Rule(ph['ácido'] & col['regular'] & od['boa'] & temp['baixa'], pota['ruim'])\n",
        "regra93 = ctrl.Rule(ph['ácido'] & col['regular'] & od['boa'] & temp['elevada'], pota['ruim'])\n",
        "regra94 = ctrl.Rule(ph['ácido'] & col['regular'] & od['supersaturado'] & temp['minima'], pota['ruim'])\n",
        "regra95 = ctrl.Rule(ph['ácido'] & col['regular'] & od['supersaturado'] & temp['baixa'], pota['ruim'])\n",
        "regra96 = ctrl.Rule(ph['ácido'] & col['regular'] & od['supersaturado'] & temp['elevada'], pota['ruim'])\n",
        "regra97 = ctrl.Rule(ph['ácido'] & col['regular'] & od['baixa'] & temp['minima'], pota['regular'])\n",
        "regra98 = ctrl.Rule(ph['ácido'] & col['regular'] & od['baixa'] & temp['baixa'], pota['ruim'])\n",
        "regra99 = ctrl.Rule(ph['ácido'] & col['regular'] & od['baixa'] & temp['elevada'], pota['ruim'])\n",
        "regra100 = ctrl.Rule(ph['ácido'] & col['ruim'] & od['boa'] & temp['minima'], pota['ruim'])\n",
        "regra101 = ctrl.Rule(ph['ácido'] & col['ruim'] & od['boa'] & temp['baixa'], pota['ruim'])\n",
        "regra102 = ctrl.Rule(ph['ácido'] & col['ruim'] & od['boa'] & temp['elevada'], pota['ruim'])\n",
        "regra103 = ctrl.Rule(ph['ácido'] & col['ruim'] & od['supersaturado'] & temp['minima'], pota['ruim'])\n",
        "regra104 = ctrl.Rule(ph['ácido'] & col['ruim'] & od['supersaturado'] & temp['baixa'], pota['ruim'])\n",
        "regra105 = ctrl.Rule(ph['ácido'] & col['ruim'] & od['supersaturado'] & temp['elevada'], pota['ruim'])\n",
        "regra106 = ctrl.Rule(ph['ácido'] & col['ruim'] & od['baixa'] & temp['minima'], pota['ruim'])\n",
        "regra107 = ctrl.Rule(ph['ácido'] & col['ruim'] & od['baixa'] & temp['baixa'], pota['ruim'])\n",
        "regra108 = ctrl.Rule(ph['ácido'] & col['ruim'] & od['baixa'] & temp['elevada'], pota['ruim'])\n",
        "regra109 = ctrl.Rule(ph['altamente ácido'] | col['pessima'] | od['muito baixa'] | temp['muito elevada'], pota['pessima'])\n",
        "\n",
        "#ativação das regras\n",
        "controle_regras = ctrl.ControlSystem([regra1, regra2, regra3, regra4, regra5, regra6, regra7, regra8, regra9, regra10, regra11, regra12, regra13, regra14, regra15, regra16, regra17, regra18, regra19, regra20, regra21, regra22, regra23, regra24, regra25, regra26, regra27, regra28, regra29, regra30, regra31, regra32, regra33, regra34, regra35, regra36, regra37, regra38, regra39, regra40, regra41, regra42, regra43, regra44, regra45, regra46, regra47, regra48, regra49, regra50, regra51, regra52, regra53, regra54, regra55, regra56, regra57, regra58, regra59, regra60, regra61, regra62, regra63, regra64, regra65, regra66, regra67, regra68, regra69, regra70, regra71, regra72, regra73, regra74, regra75, regra76, regra77, regra78, regra79, regra80, regra81, regra82, regra83, regra84, regra85, regra86, regra87, regra88, regra89, regra90, regra91, regra92, regra93, regra94, regra95, regra96, regra97, regra98, regra99, regra100, regra101, regra102, regra103, regra104, regra105, regra106, regra107, regra108, regra109])\n",
        "simulador_de_potabilidade = ctrl.ControlSystemSimulation(controle_regras)\n"
      ],
      "metadata": {
        "id": "qmyHSFEOisBb"
      },
      "execution_count": null,
      "outputs": []
    },
    {
      "cell_type": "markdown",
      "source": [
        "# **Defuzzificação**\n",
        "Etapa contrária a fuzzificação, nesta parte os resultados difusos são convertidos em resultados nítidos, inserindo valores de entrada para que o algoritmo simule a saída e mostre o centróide da simulação."
      ],
      "metadata": {
        "id": "aWRQebGgJE4C"
      }
    },
    {
      "cell_type": "code",
      "source": [
        "#Defuzificação\n",
        "simulador_de_potabilidade.input['PH'] = 7\n",
        "simulador_de_potabilidade.input['Coliformes'] = 0\n",
        "simulador_de_potabilidade.input['% de Saturação de Oxigênio Dissolvido'] = 100\n",
        "simulador_de_potabilidade.input['Variação da temperatura'] = 0\n",
        "\n",
        "simulador_de_potabilidade.compute()\n",
        "print(\"Qualidade:\",round(simulador_de_potabilidade.output['Potabilidade'],2), \"\\n\")\n",
        "\n",
        "pota.view(sim=simulador_de_potabilidade)\n",
        "plt.show()"
      ],
      "metadata": {
        "colab": {
          "base_uri": "https://localhost:8080/",
          "height": 316
        },
        "id": "TQdvhd4vmPV-",
        "outputId": "dc41fabb-ce5c-4d01-f474-db271669f37e"
      },
      "execution_count": null,
      "outputs": [
        {
          "output_type": "stream",
          "name": "stdout",
          "text": [
            "Qualidade: 92.48 \n",
            "\n"
          ]
        },
        {
          "output_type": "display_data",
          "data": {
            "text/plain": [
              "<Figure size 432x288 with 1 Axes>"
            ],
            "image/png": "[encoded data removed]"
          },
          "metadata": {
            "needs_background": "light"
          }
        }
      ]
    }
  ]
}